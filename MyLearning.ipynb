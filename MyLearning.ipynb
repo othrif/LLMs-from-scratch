{
 "cells": [
  {
   "cell_type": "markdown",
   "id": "1175c51c-8789-4c3f-a392-0d6baea6a285",
   "metadata": {},
   "source": [
    "# Appendix A"
   ]
  },
  {
   "cell_type": "code",
   "execution_count": 1,
   "id": "290c257d-a02d-4bcd-9c79-e3941f32e6f9",
   "metadata": {},
   "outputs": [],
   "source": [
    "import torch"
   ]
  },
  {
   "cell_type": "code",
   "execution_count": 25,
   "id": "cf8da328-61e0-498f-ba85-282518a7125f",
   "metadata": {},
   "outputs": [
    {
     "data": {
      "text/plain": [
       "torch.Size([])"
      ]
     },
     "execution_count": 25,
     "metadata": {},
     "output_type": "execute_result"
    }
   ],
   "source": [
    "tensor0d = torch.tensor(1.)\n",
    "tensor0d.shape"
   ]
  },
  {
   "cell_type": "code",
   "execution_count": 26,
   "id": "ea7c81b7-a0d6-46cc-b9b1-2b38e61ce4ba",
   "metadata": {},
   "outputs": [
    {
     "data": {
      "text/plain": [
       "torch.Size([2])"
      ]
     },
     "execution_count": 26,
     "metadata": {},
     "output_type": "execute_result"
    }
   ],
   "source": [
    "tensor1d = torch.tensor([2., 3.])\n",
    "tensor1d.shape"
   ]
  },
  {
   "cell_type": "code",
   "execution_count": 21,
   "id": "db72190e-106a-4d2a-bfc8-a22c55344a31",
   "metadata": {},
   "outputs": [
    {
     "data": {
      "text/plain": [
       "torch.Size([2, 2])"
      ]
     },
     "execution_count": 21,
     "metadata": {},
     "output_type": "execute_result"
    }
   ],
   "source": [
    "tensor2d = torch.tensor([[2., 3.],[4.,5.]])\n",
    "tensor2d.shape"
   ]
  },
  {
   "cell_type": "code",
   "execution_count": 28,
   "id": "564946ad-cdd3-4706-a7b8-e7692f3a8426",
   "metadata": {},
   "outputs": [
    {
     "data": {
      "text/plain": [
       "torch.Size([2, 2, 3])"
      ]
     },
     "execution_count": 28,
     "metadata": {},
     "output_type": "execute_result"
    }
   ],
   "source": [
    "tensor3d = torch.tensor([[[2., 3., 6],[4.,5., 5]],[[1., 2., 0],[3.,4.,0]]])\n",
    "tensor3d.shape"
   ]
  },
  {
   "cell_type": "code",
   "execution_count": 56,
   "id": "438d5df3-a350-4652-b3a4-d32f0c609ba8",
   "metadata": {},
   "outputs": [],
   "source": [
    "x = torch.tensor([2.,3.], requires_grad=True)"
   ]
  },
  {
   "cell_type": "code",
   "execution_count": 57,
   "id": "7fe6dcfd-4c40-4936-bddd-a70b44781539",
   "metadata": {},
   "outputs": [
    {
     "data": {
      "text/plain": [
       "tensor([11., 19.], grad_fn=<AddBackward0>)"
      ]
     },
     "execution_count": 57,
     "metadata": {},
     "output_type": "execute_result"
    }
   ],
   "source": [
    "y = x**2 + 3*x + 1\n",
    "y"
   ]
  },
  {
   "cell_type": "code",
   "execution_count": 58,
   "id": "9edfe063-2011-4dd5-8d75-c0242a6b8f06",
   "metadata": {},
   "outputs": [],
   "source": [
    "z=y.sum()"
   ]
  },
  {
   "cell_type": "code",
   "execution_count": 59,
   "id": "8a17d949-9608-4598-ae2d-aeb04c619235",
   "metadata": {},
   "outputs": [
    {
     "data": {
      "text/plain": [
       "tensor(30., grad_fn=<SumBackward0>)"
      ]
     },
     "execution_count": 59,
     "metadata": {},
     "output_type": "execute_result"
    }
   ],
   "source": [
    "z.requires_grad_()"
   ]
  },
  {
   "cell_type": "code",
   "execution_count": 60,
   "id": "ae452ec8-e22b-44f6-a0f0-a13d7156bfcf",
   "metadata": {},
   "outputs": [],
   "source": [
    "z.backward()"
   ]
  },
  {
   "cell_type": "code",
   "execution_count": 61,
   "id": "ef83e435-5ccd-4306-9cca-cff1dd61761a",
   "metadata": {},
   "outputs": [
    {
     "name": "stdout",
     "output_type": "stream",
     "text": [
      "tensor([7., 9.])\n"
     ]
    }
   ],
   "source": [
    "print(x.grad)"
   ]
  },
  {
   "cell_type": "code",
   "execution_count": null,
   "id": "15ccb330-a9d0-469b-a2fd-84cb44bd570e",
   "metadata": {},
   "outputs": [],
   "source": []
  }
 ],
 "metadata": {
  "kernelspec": {
   "display_name": "Python 3 (ipykernel)",
   "language": "python",
   "name": "python3"
  },
  "language_info": {
   "codemirror_mode": {
    "name": "ipython",
    "version": 3
   },
   "file_extension": ".py",
   "mimetype": "text/x-python",
   "name": "python",
   "nbconvert_exporter": "python",
   "pygments_lexer": "ipython3",
   "version": "3.12.7"
  }
 },
 "nbformat": 4,
 "nbformat_minor": 5
}
